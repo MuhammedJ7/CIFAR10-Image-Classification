{
 "cells": [
  {
   "cell_type": "code",
   "execution_count": 1,
   "id": "c41f92b1",
   "metadata": {},
   "outputs": [],
   "source": [
    "import torch\n",
    "from torchvision import datasets, transforms\n",
    "import os\n",
    "import pickle\n",
    "import numpy as np\n",
    "import matplotlib.pyplot as plt"
   ]
  },
  {
   "cell_type": "code",
   "execution_count": 2,
   "id": "96e36a36",
   "metadata": {},
   "outputs": [],
   "source": [
    "# We first define a transform to convert the images to tensors and normalize them\n",
    "transform = transforms.Compose([\n",
    "    transforms.ToTensor(),\n",
    "    transforms.Normalize((0.5, 0.5, 0.5), (0.5, 0.5, 0.5))\n",
    "])\n",
    "\n",
    "# We then define a function load_batch to load each batch file.\n",
    "def load_batch(file):\n",
    "    with open(file, 'rb') as fo:\n",
    "        dict = pickle.load(fo, encoding='bytes')\n",
    "    return dict\n",
    "\n",
    "\"\"\"We load the training data from the files data_batch_1 to data_batch_5, concatenate them, \n",
    "and create a DataLoader for the training data\"\"\"\n",
    "\n",
    "train_data = []\n",
    "train_labels = []\n",
    "for i in range(1, 6):\n",
    "    batch = load_batch(f'data_batch_{i}')\n",
    "    train_data.append(batch[b'data'])\n",
    "    train_labels += batch[b'labels']\n",
    "train_data = np.concatenate(train_data).reshape(-1, 3, 32, 32)\n",
    "train_data = torch.tensor(train_data, dtype=torch.float)\n",
    "train_labels = torch.tensor(train_labels, dtype=torch.long)\n",
    "\n",
    "# training DataLoader\n",
    "trainset = torch.utils.data.TensorDataset(train_data, train_labels)\n",
    "trainloader = torch.utils.data.DataLoader(trainset, batch_size=64, shuffle=True)\n",
    "\n",
    "\"\"\"We load the test data from the file test_batch and create a DataLoader for the test data.\"\"\"\n",
    "# Load test data\n",
    "test_batch = load_batch('test_batch')\n",
    "test_data = test_batch[b'data'].reshape(-1, 3, 32, 32)\n",
    "test_data = torch.tensor(test_data, dtype=torch.float)\n",
    "test_labels = torch.tensor(test_batch[b'labels'], dtype=torch.long)\n",
    "\n",
    "# test DataLoader\n",
    "testset = torch.utils.data.TensorDataset(test_data, test_labels)\n",
    "testloader = torch.utils.data.DataLoader(testset, batch_size=64, shuffle=True)\n"
   ]
  },
  {
   "cell_type": "code",
   "execution_count": null,
   "id": "a8a29caa",
   "metadata": {},
   "outputs": [],
   "source": [
    "# Load the first training batch\n",
    "batch1 = load_batch('data_batch_1')\n",
    "\n",
    "# Separate the data and labels\n",
    "data = batch1[b'data'].reshape(-1, 3, 32, 32).transpose(0, 2, 3, 1)\n",
    "labels = batch1[b'labels']\n",
    "\n",
    "\n",
    "classes = ['airplane', 'automobile', 'bird', 'cat', 'deer', 'dog', 'frog', 'horse', 'ship', 'truck']\n",
    "fig = plt.figure(figsize=(10,10))\n",
    "\n",
    "# For each class\n",
    "for i in range(10):\n",
    "    # Find the indices of the examples in this class\n",
    "    indices = np.where(np.array(labels) == i)[0]\n",
    "    \n",
    "    # Choose a random index from the indices\n",
    "    index = np.random.choice(indices)\n",
    "    \n",
    "    # Get the image corresponding to this index\n",
    "    img = data[index]\n",
    "    \n",
    "    # Normalize the image data\n",
    "    img = img / 255.0\n",
    "    \n",
    "    # Add a subplot for this image\n",
    "    ax = fig.add_subplot(2, 5, i+1)\n",
    "    ax.imshow(img)\n",
    "    ax.set_title(classes[i])\n",
    "    ax.axis('off')\n",
    "\n",
    "plt.show()\n"
   ]
  }
 ],
 "metadata": {
  "kernelspec": {
   "display_name": "Python 3 (ipykernel)",
   "language": "python",
   "name": "python3"
  },
  "language_info": {
   "codemirror_mode": {
    "name": "ipython",
    "version": 3
   },
   "file_extension": ".py",
   "mimetype": "text/x-python",
   "name": "python",
   "nbconvert_exporter": "python",
   "pygments_lexer": "ipython3",
   "version": "3.9.18"
  }
 },
 "nbformat": 4,
 "nbformat_minor": 5
}
